{
 "cells": [
  {
   "cell_type": "code",
   "execution_count": 0,
   "metadata": {
    "application/vnd.databricks.v1+cell": {
     "cellMetadata": {},
     "inputWidgets": {},
     "nuid": "6d98ce68-93e7-4390-b714-6e9bc3d3275e",
     "showTitle": false,
     "tableResultSettingsMap": {},
     "title": ""
    }
   },
   "outputs": [],
   "source": [
    "# simple_calculator.py\n",
    "\n",
    "def add(a, b):\n",
    "    \"\"\"Add two numbers.\"\"\"\n",
    "    return a + b\n",
    "\n",
    "def subtract(a, b):\n",
    "    \"\"\"Subtract two numbers.\"\"\"\n",
    "    return a - b\n",
    "\n",
    "def multiply(a, b):\n",
    "    \"\"\"Multiply two numbers.\"\"\"\n",
    "    return a * b\n",
    "\n",
    "def divide(a, b):\n",
    "    \"\"\"Divide two numbers.\"\"\"\n",
    "    if b == 0:\n",
    "        raise ValueError(\"Cannot divide by zero.\")\n",
    "    return a / b\n",
    "\n",
    "class Calculator:\n",
    "    \"\"\"A simple calculator class.\"\"\"\n",
    "\n",
    "    def __init__(self):\n",
    "        self.history = []\n",
    "\n",
    "    def calculate(self, operation, a, b):\n",
    "        if operation == \"add\":\n",
    "            result = add(a, b)\n",
    "        elif operation == \"subtract\":\n",
    "            result = subtract(a, b)\n",
    "        elif operation == \"multiply\":\n",
    "            result = multiply(a, b)\n",
    "        elif operation == \"divide\":\n",
    "            result = divide(a, b)\n",
    "        else:\n",
    "            raise ValueError(\"Invalid operation.\")\n",
    "\n",
    "        self.history.append((operation, a, b, result))\n",
    "        return result\n",
    "\n",
    "    def show_history(self):\n",
    "        \"\"\"Display the calculation history.\"\"\"\n",
    "        for entry in self.history:\n",
    "            operation, a, b, result = entry\n",
    "            print(f\"{a} {operation} {b} = {result}\")\n",
    "\n",
    "# Example usage\n",
    "if __name__ == \"__main__\":\n",
    "    calc = Calculator()\n",
    "\n",
    "    print(calc.calculate(\"add\", 10, 5))\n",
    "    print(calc.calculate(\"subtract\", 10, 5))\n",
    "    print(calc.calculate(\"multiply\", 10, 5))\n",
    "    try:\n",
    "        print(calc.calculate(\"divide\", 10, 0))\n",
    "    except ValueError as e:\n",
    "        print(e)\n",
    "\n",
    "    calc.show_history()\n"
   ]
  }
 ],
 "metadata": {
  "application/vnd.databricks.v1+notebook": {
   "computePreferences": null,
   "dashboards": [],
   "environmentMetadata": {
    "base_environment": "",
    "client": "1"
   },
   "language": "python",
   "notebookMetadata": {
    "pythonIndentUnit": 4
   },
   "notebookName": "notebook1",
   "widgets": {}
  },
  "language_info": {
   "name": "python"
  }
 },
 "nbformat": 4,
 "nbformat_minor": 0
}
